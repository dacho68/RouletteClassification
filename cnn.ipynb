{
 "cells": [
  {
   "cell_type": "code",
   "execution_count": 60,
   "metadata": {},
   "outputs": [],
   "source": [
    "import numpy as np\n",
    "import pandas as pd\n",
    "import torch\n",
    "from torch import nn, save, load\n",
    "from torch.optim import Adam\n",
    "from torch.utils.data import Dataset\n",
    "import torchvision.transforms as T\n",
    "import matplotlib.pyplot as plt\n",
    "from torch.utils.data import DataLoader as DL\n",
    "from PIL import Image\n",
    "import os\n",
    "from torchvision.transforms import ToTensor\n",
    "\n"
   ]
  },
  {
   "cell_type": "code",
   "execution_count": 61,
   "metadata": {},
   "outputs": [],
   "source": [
    "class ImageClassifier(nn.Module):\n",
    "\n",
    "  def __init__(self):\n",
    "    super().__init__()\n",
    "    self.model = nn.Sequential(\n",
    "      nn.Conv2d(1,32,(3,3)),\n",
    "      nn.ReLU(),\n",
    "      nn.Conv2d(32,64,(3,3)),\n",
    "      nn.ReLU(),\n",
    "      nn.Conv2d(64,64,(3,3)),\n",
    "      nn.ReLU(),\n",
    "      nn.Flatten(),\n",
    "      nn.Linear(64*(20-6)*(30-6),37)     \n",
    "    )\n",
    "  \n",
    "  def forward(self,x):\n",
    "    return self.model(x)\n",
    "\n",
    "# Instance of the neural network, loss, optimizer\n",
    "\n",
    "clf = ImageClassifier().to('cuda')"
   ]
  },
  {
   "cell_type": "code",
   "execution_count": 59,
   "metadata": {},
   "outputs": [
    {
     "name": "stdout",
     "output_type": "stream",
     "text": [
      "tensor(15, device='cuda:0')\n"
     ]
    }
   ],
   "source": [
    "#test_file_path = os.path.join(test_dir_path,\"7\",\"7_1.png\")\n",
    "test_file_path = os.path.join(\"C:\\\\dev\\\\src\\\\SmartRoulette\\\\Data\\\\save5\",\"box10_4.png\")\n",
    "\n",
    "with open('C:\\\\dev\\\\src\\\\RouletteClassification\\\\model_state.pt', 'rb') as f: \n",
    "    clf.load_state_dict(load(f))  \n",
    "\n",
    "img = Image.open(test_file_path) \n",
    "img = img.resize((30,20))\n",
    "img = img.convert('L')\n",
    "#img.show()\n",
    "img_tensor = ToTensor()(img).unsqueeze(0).to('cuda')\n",
    "tensor = torch.argmax(clf(img_tensor))\n",
    "\n",
    "print(tensor)  "
   ]
  },
  {
   "cell_type": "code",
   "execution_count": 31,
   "metadata": {},
   "outputs": [
    {
     "name": "stdout",
     "output_type": "stream",
     "text": [
      "Shape of tensor: torch.Size([])\n",
      "Rank (Number of dimensions): 0\n",
      "Data type of the tensor: torch.int64\n",
      "Device the tensor is stored on: cuda:0\n",
      "Device the tensor item: 7\n"
     ]
    }
   ],
   "source": [
    "print(\"Shape of tensor:\", tensor.shape)  # Output: torch.Size([2, 3])\n",
    "print(\"Rank (Number of dimensions):\", tensor.dim())  # Output: 2\n",
    "print(\"Data type of the tensor:\", tensor.dtype)  # Output: torch.float32\n",
    "print(\"Device the tensor is stored on:\", tensor.device)  # Output: cpu\n",
    "print(\"Device the tensor item:\", tensor.item())  # Output: cpu"
   ]
  },
  {
   "cell_type": "code",
   "execution_count": 64,
   "metadata": {},
   "outputs": [
    {
     "name": "stdout",
     "output_type": "stream",
     "text": [
      "C:\\dev\\src\\RouletteClassification\\data\\roulette_numbers\\test1\\10\\77d53885-0e41-4004-a62a-ce870f075bac.png\n",
      "23\n"
     ]
    }
   ],
   "source": [
    "#test_file_path = os.path.join(test_dir_path,\"7\",\"7_1.png\")\n",
    "\n",
    "with open('C:\\\\dev\\\\src\\\\RouletteClassification\\\\model_state.pt', 'rb') as f: \n",
    "    clf.load_state_dict(load(f))  \n",
    "\n",
    "\n",
    "test_dir_path = \"C:\\\\dev\\\\src\\\\RouletteClassification\\\\data\\\\roulette_numbers\\\\test1\"\n",
    "\n",
    "for num in range(36):\n",
    "    folder_num_path = os.path.join(test_dir_path,f\"{num}\")\n",
    "    files = os.listdir(folder_num_path)\n",
    "    for f in files:\n",
    "        test_file_path = os.path.join(folder_num_path,f)\n",
    "        img = Image.open(test_file_path) \n",
    "        img = img.convert('L')\n",
    "        img = img.resize((30,20))        \n",
    "        img_tensor = ToTensor()(img).unsqueeze(0).to('cuda')\n",
    "        tensor = torch.argmax(clf(img_tensor))\n",
    "        if (tensor.item() != num):\n",
    "            print(test_file_path)\n",
    "            print(tensor.item())"
   ]
  },
  {
   "cell_type": "code",
   "execution_count": 9,
   "metadata": {},
   "outputs": [
    {
     "data": {
      "text/plain": [
       "int"
      ]
     },
     "execution_count": 9,
     "metadata": {},
     "output_type": "execute_result"
    }
   ],
   "source": [
    "type(tensor.item())"
   ]
  },
  {
   "cell_type": "code",
   "execution_count": null,
   "metadata": {},
   "outputs": [],
   "source": []
  }
 ],
 "metadata": {
  "kernelspec": {
   "display_name": "ml_pt",
   "language": "python",
   "name": "python3"
  },
  "language_info": {
   "codemirror_mode": {
    "name": "ipython",
    "version": 3
   },
   "file_extension": ".py",
   "mimetype": "text/x-python",
   "name": "python",
   "nbconvert_exporter": "python",
   "pygments_lexer": "ipython3",
   "version": "3.11.9"
  }
 },
 "nbformat": 4,
 "nbformat_minor": 2
}
